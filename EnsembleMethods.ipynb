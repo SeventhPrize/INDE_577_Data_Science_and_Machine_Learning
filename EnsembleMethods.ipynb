{
 "cells": [
  {
   "cell_type": "markdown",
   "id": "f8f8a2ff",
   "metadata": {},
   "source": [
    "# Ensemble methods\n"
   ]
  }
 ],
 "metadata": {
  "kernelspec": {
   "display_name": "pip_venv_inde577",
   "language": "python",
   "name": "pip_venv_inde577"
  },
  "language_info": {
   "codemirror_mode": {
    "name": "ipython",
    "version": 3
   },
   "file_extension": ".py",
   "mimetype": "text/x-python",
   "name": "python",
   "nbconvert_exporter": "python",
   "pygments_lexer": "ipython3",
   "version": "3.9.13"
  }
 },
 "nbformat": 4,
 "nbformat_minor": 5
}
