{
 "cells": [
  {
   "cell_type": "markdown",
   "id": "e8de0514",
   "metadata": {},
   "source": [
    "# Dense neural network\n",
    "A dense neural network, also known as a fully connected neural network, builds off of a single neuron model by connecting multiple neurons into layers, where each neuron is connected to every neuron in the adjacent layers. Like a single neuron, each neuron in a dense neural network takes an input vector, processes it through an activation function, and produces an output. Each layer of neurons receives input from the previous layer. By stacking multiple layers of neurons, a dense neural network can learn to recognize patterns far more complex than a single neuron can. In fact, the [universal approximation theorem](https://en.wikipedia.org/wiki/Universal_approximation_theorem) states that any reasonable function can be approximated by a dense neural network as long as one neuron layer has a nonlinear activation function.\n",
    "\n",
    "{IMAGE OF DNN}\n",
    "\n",
    "We will implement, from scratch, a dense neural network. We will train this dense neural network to recognize handwritten numerals."
   ]
  },
  {
   "cell_type": "markdown",
   "id": "27ad0376",
   "metadata": {},
   "source": [
    "## MNIST handwritten digit database\n",
    "The MNIST handwritten digit databse is a collection of images that is widely used as a benchmark dataset for training and testing machine learning algorithms in image recognition. It contains 70,000 grayscale images of handwritten digits (0 to 9), each of which is a 28x28 greyscale pixel image. The dataset is divided into two subsets: 60,000 images for training and 10,000 images for testing. The images were collected from a variety of sources, including high school students and US Census Bureau employees.\n",
    "\n",
    "We can load the dataset via the `tensorflow.keras` package. `train_X` and `test_X` are stored as 3-dimensional tensors, where entry $i,j,k$ is the greyscale value of the pixel in row $j$, column $k$ of image sample $i$."
   ]
  },
  {
   "cell_type": "code",
   "execution_count": 1,
   "id": "959899fe",
   "metadata": {},
   "outputs": [
    {
     "data": {
      "image/png": "[encoded data removed]",
      "text/plain": [
       "<Figure size 640x480 with 1 Axes>"
      ]
     },
     "metadata": {},
     "output_type": "display_data"
    }
   ],
   "source": [
    "import numpy as np\n",
    "import matplotlib.pyplot as plt\n",
    "from tensorflow import keras \n",
    "\n",
    "(train_X, train_y), (test_X, test_y) = keras.datasets.mnist.load_data()\n",
    "\n",
    "# Show an example of an image\n",
    "plt.imshow(train_X[0], cmap=\"gray\")\n",
    "plt.title(\"Train_X image #0\")\n",
    "plt.show()"
   ]
  },
  {
   "cell_type": "markdown",
   "id": "9af240cb",
   "metadata": {},
   "source": [
    "## Data cleaning\n",
    "\n",
    "### Scaling\n",
    "The greyscale pixel values can have large variance, ranging between 0 and 255. Such large variance can lead to issues when training the weights and biases of our neurons. So we will scale all the greyscale values down to a range from 0 to 1 by dividing by 255.\n",
    "\n",
    "### Image flattening\n",
    "Additionally, the input layer to a dense neural network requires a vector as input. But our samples in `train_X` are 28-by-28 arrays. We can convert the arrays into vectors by flattening them: For a given array, stack the columns of the array into a single column vector. In this case, our input layer has size $28 \\times 28 = 784$.\n",
    "\n",
    "### One-hot encoding\n",
    "Each image is labeled with a 0-9 category to denote which numeral is depicted by the handwriting. We can use one-hot encoding to represent the labels. For each image, create a 10-length binary array indexed 0-9, where the array is all zeros except for the one located at the index associated with the image's numeral label. This also means our output layer has size 10."
   ]
  },
  {
   "cell_type": "code",
   "execution_count": 2,
   "id": "bd1e1a58",
   "metadata": {},
   "outputs": [],
   "source": [
    "# Scale pixel values from 0-255 to 0-1\n",
    "train_X = train_X / 255\n",
    "test_X = test_X / 255\n",
    "\n",
    "# Flatten training images and one-hot encode training labels\n",
    "flat_train_X = []\n",
    "onehot_train_y = []\n",
    "\n",
    "for x_array, y_label in zip(train_X, train_y):\n",
    "    flat_train_X.append(x_array.flatten().reshape(-1, 1))\n",
    "    y_vec = np.zeros((10, 1), dtype=bool)\n",
    "    y_vec[y_label][0] = 1\n",
    "    onehot_train_y.append(y_vec)\n",
    "\n",
    "# Flatten training images and one-hot encode training labels\n",
    "flat_test_X = []\n",
    "onehot_test_y = []\n",
    "\n",
    "for x_array, y_label in zip(test_X, test_y):\n",
    "    flat_test_X.append(x_array.flatten().reshape(-1, 1))\n",
    "    y_vec = np.zeros((10, 1), dtype=bool)\n",
    "    y_vec[y_label][0] = 1\n",
    "    onehot_test_y.append(y_vec)"
   ]
  },
  {
   "cell_type": "markdown",
   "id": "e8fba94f",
   "metadata": {},
   "source": [
    "## Network architecture\n",
    "Our dense neural network has 784-size input layer and 10-size output layer. There are $L$ total layers, where $L-2$ of these layers are the \"hidden\" intermediary layers between input and output. Arbitrarily, we will have two hidden layers, both of 60 neurons. (There is actually not a great way to decide how many hidden layers to employ until As for our single-neuron model, each of the neurons in our dense neural network must have a defined activation function and cost function.\n",
    "\n",
    "We will use the sigmoid function for our activation function: $\\sigma(z) = \\frac{1}{1+e^{-z}}$\n",
    "\n",
    "The sigmoid function has known derivative: $\\frac{d}{dz} \\sigma(z) = \\sigma(z)(1 - \\sigma(z))$\n",
    "\n",
    "We will use the mean-squared error as our activation function: $C(W, b) = \\frac{1}{2}\\sum_{k=1}^{10}(\\hat{y}^{(i)}_k - y^{(i)}_k)^2$\n",
    "\n",
    "Training any neural network requires the following steps:\n",
    "1. Initialize the weights of biases of each neuron in each layer.\n",
    "2. Feedfoward phase to make a prediction.\n",
    "3. Calculate the cost function.\n",
    "4. Back-propogation with gradient descent to optimize weights and biases."
   ]
  },
  {
   "cell_type": "code",
   "execution_count": 3,
   "id": "ce3f608a",
   "metadata": {},
   "outputs": [],
   "source": [
    "def sigmoid(z):\n",
    "    '''\n",
    "    Returns 1 / (1 + e^-z)\n",
    "    '''\n",
    "    return 1 / (1 + np.exp(-z))\n",
    "\n",
    "def d_sigmoid(z):\n",
    "    '''\n",
    "    Returns derivative of sigmoid: sigmoid(z) * (1 - sigmoid(z))\n",
    "    '''\n",
    "    return sigmoid(z) * (1 - sigmoid(z))"
   ]
  },
  {
   "cell_type": "markdown",
   "id": "79672da9",
   "metadata": {},
   "source": [
    "### Initialize weights\n",
    "We must initialize our weights and biases randomly. One way is just initialize the weights and biases using a uniform or normal random distribution. However, Dr. Davila recommends the following initialization. It utilizes a scalar factor he found in a research paper that supposedly speeds up training."
   ]
  },
  {
   "cell_type": "code",
   "execution_count": 4,
   "id": "e1b31e54",
   "metadata": {},
   "outputs": [],
   "source": [
    "def initialize_weights(layers=[784, 60, 60, 10]):\n",
    "    '''\n",
    "    Initializes weights and biases of each neuron in the dense neural network\n",
    "    INPUT\n",
    "        layers; list of natural numbers, where the ith entry describes the size of the ith neuron layer\n",
    "    RETURNS\n",
    "        W; list of numpy matrices, where the ith matrix contains the weights of neuron layer i\n",
    "        B; list of numpy matrices, where the ith matrix contains the biases of neuron layer i        \n",
    "    '''\n",
    "    # Initialize W, B with dummy elements at index 0. This is because layer 0 is the input layer and has no neurons.\n",
    "    # This maintains consistency so that python-list index i refers to the ith network layer.\n",
    "    W = [np.zeros((1,1))]\n",
    "    B = [np.zeros((1,1))]\n",
    "    \n",
    "    # Foreach layer, initialize weights and biases according to Dr. Davila's magic scaling factor\n",
    "    for lay in range(1, len(layers)):\n",
    "        w_temp = np.random.randn(layers[lay], layers[lay - 1]) * np.sqrt(2 / layers[lay - 1])\n",
    "        b_temp = np.random.randn(layers[lay], 1) * np.sqrt(2 / layers[lay - 1])\n",
    "        W.append(w_temp)\n",
    "        B.append(b_temp)\n",
    "    \n",
    "    return W, B"
   ]
  },
  {
   "cell_type": "markdown",
   "id": "9cfea86c",
   "metadata": {},
   "source": [
    "### Feedforward phase to make a prediction\n",
    "For each layer $l \\in \\{1, ..., L\\}$, let $W^l, b^l, z^l, a^l$ be the weights, biases, preactivation values, and postactivation values of the neurons in that layer. Note that the first layer, the input layer, has no weights/biases/preactivation value, and the postiactivation value is equal to the input signal vector. We can compute these as follows. Observe the parallels to the single-neuron model. The preactivation functions are a linear function on the postactivation values of the previous layer.\n",
    "\n",
    "\\begin{align}\n",
    "    z^l =& W^l a^{l-1} + b^l \\\\\n",
    "    a^l =& \\sigma(z^l)\n",
    "\\end{align}\n",
    "\n",
    "Starting by using the input layer as the inputs to layer 2, we can compute the postactivation values of the neuron layers in sequential order until we reach the output layer. The postactivation values of the output layer are the neural network's prediction."
   ]
  },
  {
   "cell_type": "code",
   "execution_count": 49,
   "id": "ef56bdf1",
   "metadata": {},
   "outputs": [],
   "source": [
    "def forward_phase(W, B, input_vec, activation_function=sigmoid):\n",
    "    '''\n",
    "    Performs forward phase of the neural network described by weights W and biases B for input layer input_vec\n",
    "    INPUTS\n",
    "        W; list of numpy matrices, where the ith matrix contains the weights of neuron layer i\n",
    "        B; list of numpy matrices, where the ith matrix contains the biases of neuron layer i        \n",
    "        input_vec; input to neural network\n",
    "        activation_function; the activation function\n",
    "    RETURNS\n",
    "        the postactivation value of the output layer, as a numpy vector\n",
    "    '''\n",
    "    # List stores the preactivation values. Useful for backpropagation gradient descent.\n",
    "    # Dummy element at index 0. This is because layer 0 is the input layer and has no neurons.\n",
    "    # This maintains consistency so that python-list index i refers to the ith network layer.\n",
    "    preact = [np.zeros((1,1))]\n",
    "    \n",
    "    # List stores the postactivation values.Set layer 0 postactivation value to input vector\n",
    "    postact = [input_vec]\n",
    "    \n",
    "    # Compute postactivation output for each layer\n",
    "    for lay in range(1, len(W)):\n",
    "        \n",
    "        # Compute preactivation value\n",
    "        preact.append(np.matmul(W[lay], postact[-1]) + B[lay])\n",
    "        \n",
    "        # Compute postactivation value\n",
    "        postact.append(activation_function(preact[-1]))\n",
    "    \n",
    "    # Return output layer postactivation value\n",
    "    return postact, preact\n",
    "\n",
    "def predict(W, B, input_vec, activation_function=sigmoid):\n",
    "    '''\n",
    "    Makes a neural network prediction by selecting the index of the output layer postactivation vector with greatest value\n",
    "    INPUTS\n",
    "        W; list of numpy matrices, where the ith matrix contains the weights of neuron layer i\n",
    "        B; list of numpy matrices, where the ith matrix contains the biases of neuron layer i        \n",
    "        input_vec; input to neural network\n",
    "        activation_function; the activation function\n",
    "    OUTPUT\n",
    "        argmax index of output layer postactivation function\n",
    "    '''\n",
    "    postact_list, _ = forward_phase(W, B, input_vec, activation_function)\n",
    "    return np.argmax(postact_list[-1])"
   ]
  },
  {
   "cell_type": "markdown",
   "id": "a30716ea",
   "metadata": {},
   "source": [
    "### Cost function\n",
    "We select mean-squared error as our cost function."
   ]
  },
  {
   "cell_type": "code",
   "execution_count": 15,
   "id": "34815326",
   "metadata": {},
   "outputs": [],
   "source": [
    "def mse(predicted, actual):\n",
    "    '''\n",
    "    Returns the mean-squared error of a prediction\n",
    "    INPUT\n",
    "        predicted; list of predicted arrays\n",
    "        actual; list of actual arrays\n",
    "    RETURNS\n",
    "        the MSE\n",
    "    '''\n",
    "    return 1 / 2 * np.sum(np.square(predicted - actual))"
   ]
  },
  {
   "cell_type": "markdown",
   "id": "cab300b8",
   "metadata": {},
   "source": [
    "Just to demo our working neural network so far, let's see what we predict for the first image in the training set on our initial untrained weights and biases."
   ]
  },
  {
   "cell_type": "code",
   "execution_count": 56,
   "id": "823f76c6",
   "metadata": {},
   "outputs": [
    {
     "name": "stdout",
     "output_type": "stream",
     "text": [
      "Prediction response vector:\n",
      "[[0.59730817]\n",
      " [0.1532687 ]\n",
      " [0.28919395]\n",
      " [0.51690415]\n",
      " [0.67791478]\n",
      " [0.57051982]\n",
      " [0.17621639]\n",
      " [0.85940319]\n",
      " [0.77654052]\n",
      " [0.70137855]]\n",
      "Prediction: 7\n",
      "MSE: 1.6198430814084541\n"
     ]
    },
    {
     "data": {
      "image/png": "[encoded data removed]",
      "text/plain": [
       "<Figure size 640x480 with 1 Axes>"
      ]
     },
     "metadata": {},
     "output_type": "display_data"
    }
   ],
   "source": [
    "W, B = initialize_weights()\n",
    "postact_list, preact_list = forward_phase(W, B, flat_train_X[0])\n",
    "\n",
    "print(\"Prediction response vector:\")\n",
    "predicted = postact_list[-1]\n",
    "print(predicted)\n",
    "\n",
    "print(\"Prediction: \" + str(np.argmax(predicted)))\n",
    "\n",
    "actual = onehot_train_y[0]\n",
    "print(\"MSE: \" + str(mse(predicted, actual)))\n",
    "\n",
    "plt.imshow(train_X[0], cmap=\"gray\")\n",
    "plt.title(\"Train_X image #0\")\n",
    "plt.show()"
   ]
  },
  {
   "cell_type": "markdown",
   "id": "e39dc848",
   "metadata": {},
   "source": [
    "### Back-propogation with gradient descent to optimize weights and biases\n",
    "Backpropagation is a technique for updating the weights and biases for a neural network. We will omit the proof of why backpropogation works because it is quite complex, but the [Wikipedia page](https://en.wikipedia.org/wiki/Backpropagation) has a good explanantion. The process is as follows so some learning rate $\\alpha$:\n",
    "1. $\\delta^L = \\nabla_a C \\otimes \\frac{d}{dz} \\sigma(z^L) = (a^L - y) \\otimes \\frac{d}{dz} \\sigma(z^L)$\n",
    "2. $\\forall l = L-1, ..., 1, \\delta^l = ((w ^ {l + 1}) ^ T \\delta ^ {l + 1}) \\otimes \\frac{d}{dz} \\sigma(z ^ l)$\n",
    "3. $\\forall l = 1, ..., L$:\n",
    " 1. $w^l \\gets w^l - \\alpha \\delta^l (a^{l-1}) ^ T$\n",
    " 2. $b^l \\gets b^l - \\alpha \\delta^l$"
   ]
  },
  {
   "cell_type": "code",
   "execution_count": 61,
   "id": "20a517b3",
   "metadata": {},
   "outputs": [],
   "source": [
    "def backpropogation(W, B, actual, postact_list, preact_list, alpha=0.1, activation_gradient=d_sigmoid):\n",
    "    '''\n",
    "    Updates neurons' weights and biases via backpropagation gradient descent.\n",
    "    INPUT\n",
    "        W; list of numpy matrices, where the ith matrix contains the weights of neuron layer i\n",
    "        B; list of numpy matrices, where the ith matrix contains the biases of neuron layer i        \n",
    "        actual; the actual vector associated with this training sample\n",
    "        postact_list; list of numpy matrices, where the ith matrix contains the postactivation values computed by layer i\n",
    "        preact_list; list of numpy matrices, where the ith matrix contains the preactivation values computed by layer i\n",
    "        alpha; positive scalar learning rate\n",
    "        activation_gradient; the gradient of the activation function\n",
    "    OUTPUT\n",
    "        W and B after being updated by gradient descent\n",
    "    '''\n",
    "    deltas = [None] * len(W)\n",
    "    deltas[-1] = np.multiply((postact_list[-1] - actual), activation_gradient(preact_list[-1]))\n",
    "\n",
    "    for lay in range(len(W) - 2, 0, -1):\n",
    "        deltas[lay] = np.multiply(np.matmul(np.transpose(W[lay + 1]), deltas[lay + 1]),\n",
    "                                  activation_gradient(preact_list[lay]))\n",
    "    \n",
    "    for lay in range(1, len(W)):\n",
    "        W[lay] -= alpha * np.matmul(deltas[lay], np.transpose(postact_list[lay - 1]))\n",
    "        B[lay] -= alpha * deltas[lay]\n",
    "    \n",
    "    return W, B\n",
    "    "
   ]
  },
  {
   "cell_type": "code",
   "execution_count": 66,
   "id": "c1232093",
   "metadata": {},
   "outputs": [
    {
     "name": "stdout",
     "output_type": "stream",
     "text": [
      "(60, 60)\n",
      "(60, 1)\n"
     ]
    }
   ],
   "source": [
    "Wn, Bn = backpropogation(W, B, actual, postact_list, preact_list)\n",
    "print(Wn[2].shape)\n",
    "print(Bn[2].shape)"
   ]
  }
 ],
 "metadata": {
  "kernelspec": {
   "display_name": "pip_venv_inde577",
   "language": "python",
   "name": "pip_venv_inde577"
  },
  "language_info": {
   "codemirror_mode": {
    "name": "ipython",
    "version": 3
   },
   "file_extension": ".py",
   "mimetype": "text/x-python",
   "name": "python",
   "nbconvert_exporter": "python",
   "pygments_lexer": "ipython3",
   "version": "3.9.13"
  }
 },
 "nbformat": 4,
 "nbformat_minor": 5
}
